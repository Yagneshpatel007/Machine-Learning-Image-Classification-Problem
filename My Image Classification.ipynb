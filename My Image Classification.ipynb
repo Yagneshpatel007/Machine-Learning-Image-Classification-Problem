{
 "cells": [
  {
   "cell_type": "code",
   "execution_count": null,
   "metadata": {},
   "outputs": [],
   "source": [
    "# All The Import Module\n",
    "import pandas as pd\n",
    "import numpy as np\n",
    "import PIL\n",
    "import os\n",
    "from PIL import Image\n",
    "from skimage.io import imread, imshow\n",
    "from sklearn.neighbors import KNeighborsClassifier"
   ]
  },
  {
   "cell_type": "code",
   "execution_count": null,
   "metadata": {},
   "outputs": [],
   "source": [
    "# My Training Image Path: C:\\\\Users\\\\win 10\\\\Downloads\\\\Image Classification\\\\Images\n",
    "# My Testing Image Path: C:\\\\Users\\\\win 10\\\\Downloads\\\\Image Classification\\\\Testimage\n",
    "\n",
    "# I have Different size of Images, so First Operation is Do all the Images size is constant.\n",
    "# Set My Path\n",
    "TrainImagePath = r'C:\\\\Users/win 10/Downloads/Image Classification/Images'\n",
    "TestImagePath = r'C:\\\\Users/win 10/Downloads/Image Classification/Testimage'\n",
    "\n",
    "# List Of all File In My Dir.\n",
    "TrainI = os.listdir(TrainImagePath)\n",
    "TestI = os.listdir(TestImagePath)"
   ]
  },
  {
   "cell_type": "code",
   "execution_count": null,
   "metadata": {},
   "outputs": [],
   "source": [
    "# Note: ML model At the time of Training Given data is same for prediction time (sequence, feature size, type, etc)\n",
    "# so now we convert our both data Training and Testing Same Size of Image.\n",
    "\n",
    "\n",
    "#Reshape Traning Image\n",
    "for file in TrainI:\n",
    "    Fimg = TrainImagePath + '/' + file\n",
    "    img = Image.open(Fimg)\n",
    "    img = img.resize((800,800))\n",
    "    img.save(Fimg)\n",
    "\n",
    "#Reshape Testing Image.\n",
    "for file in TestI:\n",
    "    Fimg = TestImagePath + '/' + file\n",
    "    img = Image.open(Fimg)\n",
    "    img = img.resize((800,800))\n",
    "    img.save(Fimg)\n"
   ]
  },
  {
   "cell_type": "code",
   "execution_count": null,
   "metadata": {},
   "outputs": [],
   "source": [
    "# on the Basis of my training images, i have CSV file that contains name of Image(name of person) and image's file name, so  first read it.\n",
    "TrainC = pd.read_csv(r'Image Classification\\Mytrain.csv')\n",
    "TrainC.head()\n",
    "Ytrain = TrainC['name']\n",
    "TestC = pd.read_csv(r'Image Classification\\Mytest.csv')\n",
    "TestC.head()\n",
    "Ytest = TestC['name']"
   ]
  },
  {
   "cell_type": "code",
   "execution_count": null,
   "metadata": {},
   "outputs": [],
   "source": [
    "# Reading Image and Extreat in Metrics form (Grey Color).\n",
    "# first I am trying, how it's work.\n",
    "\n",
    "img = imread(TestImagePath + '/' + '1.jpg', as_gray = True)\n",
    "imshow(img)\n",
    "# hey it works\n",
    "print(img.shape)\n",
    "print(img[0][0])\n",
    "print(len(img))\n",
    "X1 = np.reshape(img, img.shape[0]*img.shape[1])"
   ]
  },
  {
   "cell_type": "code",
   "execution_count": null,
   "metadata": {},
   "outputs": [],
   "source": [
    "print(X1.shape)\n",
    "totalPixel = 800*800\n",
    "print(totalPixel)\n"
   ]
  },
  {
   "cell_type": "code",
   "execution_count": null,
   "metadata": {},
   "outputs": [],
   "source": [
    "'''\n",
    "1.Now, we have one image matrix, but we required each image matrix. Simple we use Loop\n",
    "2.ML algoritham we do not provide training in matrix form again we use numpy and transform into single dimension array.(Test and Training data both.)\n",
    "  because of we provide as a Feature Of image(Each of columns)\n",
    "3.when Training is completed we provide test data.\n",
    "4.compareing result, confusion matrix, evaluation, apply diffrent algoritham and fine tuneing them.\n",
    "'''\n",
    "#Create Training data from images in form of data frame\n",
    "#because all ML Algorithm fit function takes training data as\n",
    "#data Frame only\n",
    "\n",
    "rows=[]\n",
    "for i in range(len(TrainI)):\n",
    "    Fimg = TrainImagePath + '/' + TrainI[i]\n",
    "    image_black=imread(Fimg,as_gray=True)\n",
    "    X1=np.reshape(image_black, totalPixel)\n",
    "    rows.append(X1)\n",
    "    print(i) # shows what image actually process.\n",
    "Xtrain=pd.DataFrame(rows)\n",
    "# so we have Both Training Data (Xtrain and Ytrain).\n",
    "# this Process we apply for testing data"
   ]
  },
  {
   "cell_type": "code",
   "execution_count": null,
   "metadata": {},
   "outputs": [],
   "source": [
    "# now we prepare data for test\n",
    "\n",
    "Trows=[]\n",
    "for i in range(len(TestI)):\n",
    "    Fimg = TestImagePath + '/' + TestI[i]\n",
    "    image_black=imread(Fimg,as_gray=True)\n",
    "    X1=np.reshape(image_black, totalPixel)\n",
    "    Trows.append(X1)\n",
    "    print(i) # shows what image actually process.\n",
    "Xtest=pd.DataFrame(Trows)"
   ]
  },
  {
   "cell_type": "code",
   "execution_count": null,
   "metadata": {},
   "outputs": [],
   "source": [
    "# finally we have all data for Xtest, Ytest for Testing purpose\n",
    "# we have all data for Xtrain, Ytrain for ML model training\n",
    "# machine Learning is an experimental so if we not satisfying result then we apply different algoritham\n",
    "# but now we apply KNeighborsClassifier\n",
    "\n",
    "knn=KNeighborsClassifier()\n",
    "knn.fit(Xtrain,Ytrain)\n",
    "Ypredict = knn.predict(Xtest)\n",
    "print(knn.score(Xtest,Ytest))\n",
    "\n",
    "#result = pd.DataFrame([Ypredict, Ytest], columns = ['Predicted','Actual'])"
   ]
  },
  {
   "cell_type": "code",
   "execution_count": null,
   "metadata": {},
   "outputs": [],
   "source": [
    "result = pd.DataFrame({\n",
    "    'Predicted':Ypredict,\n",
    "    'Actual':Ytest\n",
    "})\n",
    "result.to_csv()"
   ]
  },
  {
   "cell_type": "code",
   "execution_count": null,
   "metadata": {},
   "outputs": [],
   "source": []
  }
 ],
 "metadata": {
  "kernelspec": {
   "display_name": "Python 3",
   "language": "python",
   "name": "python3"
  },
  "language_info": {
   "codemirror_mode": {
    "name": "ipython",
    "version": 3
   },
   "file_extension": ".py",
   "mimetype": "text/x-python",
   "name": "python",
   "nbconvert_exporter": "python",
   "pygments_lexer": "ipython3",
   "version": "3.8.5"
  }
 },
 "nbformat": 4,
 "nbformat_minor": 4
}
